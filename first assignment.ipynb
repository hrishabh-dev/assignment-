{
 "cells": [
  {
   "cell_type": "code",
   "execution_count": 1,
   "id": "2ecf3edd-6f53-4c1a-ade9-7b978488a09f",
   "metadata": {},
   "outputs": [],
   "source": [
    "#python is an interpreted objet oriented programming language with dynamic semantics developed by guido van rossum\n"
   ]
  },
  {
   "cell_type": "code",
   "execution_count": 1,
   "id": "2f480977-dcf8-4645-8403-974fae24a1bb",
   "metadata": {},
   "outputs": [],
   "source": [
    "#what is the distribution of age among heart failure patients in the dataset\n",
    "\n",
    "\n",
    "##code to make a dist plot "
   ]
  },
  {
   "cell_type": "code",
   "execution_count": null,
   "id": "6d056519-ba3b-4fb1-868e-cd540abb9ef2",
   "metadata": {},
   "outputs": [],
   "source": []
  },
  {
   "cell_type": "code",
   "execution_count": null,
   "id": "a18f4c9d-0f4f-4467-90cf-9a08239c445b",
   "metadata": {},
   "outputs": [],
   "source": []
  }
 ],
 "metadata": {
  "kernelspec": {
   "display_name": "Python 3 (ipykernel)",
   "language": "python",
   "name": "python3"
  },
  "language_info": {
   "codemirror_mode": {
    "name": "ipython",
    "version": 3
   },
   "file_extension": ".py",
   "mimetype": "text/x-python",
   "name": "python",
   "nbconvert_exporter": "python",
   "pygments_lexer": "ipython3",
   "version": "3.12.4"
  }
 },
 "nbformat": 4,
 "nbformat_minor": 5
}
